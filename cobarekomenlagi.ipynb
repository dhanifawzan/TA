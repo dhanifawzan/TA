{
  "nbformat": 4,
  "nbformat_minor": 0,
  "metadata": {
    "colab": {
      "name": "cobarekomenlagi",
      "provenance": [],
      "collapsed_sections": [],
      "authorship_tag": "ABX9TyOmTMZQtmv4QLlE5SXoliZo",
      "include_colab_link": true
    },
    "kernelspec": {
      "name": "python3",
      "display_name": "Python 3"
    },
    "language_info": {
      "name": "python"
    }
  },
  "cells": [
    {
      "cell_type": "markdown",
      "metadata": {
        "id": "view-in-github",
        "colab_type": "text"
      },
      "source": [
        "<a href=\"https://colab.research.google.com/github/dhanifawzan/TA/blob/branccontohmain/cobarekomenlagi.ipynb\" target=\"_parent\"><img src=\"https://colab.research.google.com/assets/colab-badge.svg\" alt=\"Open In Colab\"/></a>"
      ]
    },
    {
      "cell_type": "code",
      "metadata": {
        "colab": {
          "base_uri": "https://localhost:8080/",
          "height": 200
        },
        "id": "rOD211lnNAAE",
        "outputId": "fd9e3c45-c653-47b3-f1da-6ab37248942f"
      },
      "source": [
        "import pandas as pd\n",
        "import numpy as np\n",
        "\n",
        "combined_movies_data=pd.read_csv('musikkukerasboss.csv', sep=r';')\n",
        "combined_movies_data.head()"
      ],
      "execution_count": 1,
      "outputs": [
        {
          "output_type": "execute_result",
          "data": {
            "text/html": [
              "<div>\n",
              "<style scoped>\n",
              "    .dataframe tbody tr th:only-of-type {\n",
              "        vertical-align: middle;\n",
              "    }\n",
              "\n",
              "    .dataframe tbody tr th {\n",
              "        vertical-align: top;\n",
              "    }\n",
              "\n",
              "    .dataframe thead th {\n",
              "        text-align: right;\n",
              "    }\n",
              "</style>\n",
              "<table border=\"1\" class=\"dataframe\">\n",
              "  <thead>\n",
              "    <tr style=\"text-align: right;\">\n",
              "      <th></th>\n",
              "      <th>index</th>\n",
              "      <th>user_id</th>\n",
              "      <th>menu_id</th>\n",
              "      <th>rating</th>\n",
              "    </tr>\n",
              "  </thead>\n",
              "  <tbody>\n",
              "    <tr>\n",
              "      <th>0</th>\n",
              "      <td>1</td>\n",
              "      <td>U00002</td>\n",
              "      <td>L00010</td>\n",
              "      <td>4</td>\n",
              "    </tr>\n",
              "    <tr>\n",
              "      <th>1</th>\n",
              "      <td>2</td>\n",
              "      <td>U00002</td>\n",
              "      <td>L00011</td>\n",
              "      <td>3</td>\n",
              "    </tr>\n",
              "    <tr>\n",
              "      <th>2</th>\n",
              "      <td>3</td>\n",
              "      <td>U00002</td>\n",
              "      <td>L00012</td>\n",
              "      <td>5</td>\n",
              "    </tr>\n",
              "    <tr>\n",
              "      <th>3</th>\n",
              "      <td>4</td>\n",
              "      <td>U00002</td>\n",
              "      <td>L00013</td>\n",
              "      <td>4</td>\n",
              "    </tr>\n",
              "    <tr>\n",
              "      <th>4</th>\n",
              "      <td>5</td>\n",
              "      <td>U00002</td>\n",
              "      <td>L00014</td>\n",
              "      <td>5</td>\n",
              "    </tr>\n",
              "  </tbody>\n",
              "</table>\n",
              "</div>"
            ],
            "text/plain": [
              "   index user_id menu_id  rating\n",
              "0      1  U00002  L00010       4\n",
              "1      2  U00002  L00011       3\n",
              "2      3  U00002  L00012       5\n",
              "3      4  U00002  L00013       4\n",
              "4      5  U00002  L00014       5"
            ]
          },
          "metadata": {
            "tags": []
          },
          "execution_count": 1
        }
      ]
    },
    {
      "cell_type": "code",
      "metadata": {
        "id": "LS36iAPIQvAA"
      },
      "source": [
        "combined_movies_data=combined_movies_data.drop('index',axis=1)"
      ],
      "execution_count": 2,
      "outputs": []
    },
    {
      "cell_type": "code",
      "metadata": {
        "id": "TN7H-7Q3Ngti",
        "colab": {
          "base_uri": "https://localhost:8080/",
          "height": 200
        },
        "outputId": "9a3bae18-11e3-4640-ec0b-e2b4f25a28a2"
      },
      "source": [
        "# my user_id is the 1001\n",
        "my_ratings = pd.read_csv('yanginibosscape.csv')\n",
        "my_ratings \n"
      ],
      "execution_count": 3,
      "outputs": [
        {
          "output_type": "execute_result",
          "data": {
            "text/html": [
              "<div>\n",
              "<style scoped>\n",
              "    .dataframe tbody tr th:only-of-type {\n",
              "        vertical-align: middle;\n",
              "    }\n",
              "\n",
              "    .dataframe tbody tr th {\n",
              "        vertical-align: top;\n",
              "    }\n",
              "\n",
              "    .dataframe thead th {\n",
              "        text-align: right;\n",
              "    }\n",
              "</style>\n",
              "<table border=\"1\" class=\"dataframe\">\n",
              "  <thead>\n",
              "    <tr style=\"text-align: right;\">\n",
              "      <th></th>\n",
              "      <th>user_id;menu_id;rating</th>\n",
              "    </tr>\n",
              "  </thead>\n",
              "  <tbody>\n",
              "    <tr>\n",
              "      <th>0</th>\n",
              "      <td>U0004;L00010;5</td>\n",
              "    </tr>\n",
              "    <tr>\n",
              "      <th>1</th>\n",
              "      <td>U0004;L00011;2</td>\n",
              "    </tr>\n",
              "    <tr>\n",
              "      <th>2</th>\n",
              "      <td>U0004;L00012;1</td>\n",
              "    </tr>\n",
              "    <tr>\n",
              "      <th>3</th>\n",
              "      <td>U0004;L00013;2</td>\n",
              "    </tr>\n",
              "    <tr>\n",
              "      <th>4</th>\n",
              "      <td>U0004;L00014;1</td>\n",
              "    </tr>\n",
              "  </tbody>\n",
              "</table>\n",
              "</div>"
            ],
            "text/plain": [
              "  user_id;menu_id;rating\n",
              "0         U0004;L00010;5\n",
              "1         U0004;L00011;2\n",
              "2         U0004;L00012;1\n",
              "3         U0004;L00013;2\n",
              "4         U0004;L00014;1"
            ]
          },
          "metadata": {
            "tags": []
          },
          "execution_count": 3
        }
      ]
    },
    {
      "cell_type": "code",
      "metadata": {
        "id": "cdz0tjKUFPZA"
      },
      "source": [
        "combined_movies_data = pd.concat([combined_movies_data, my_ratings], axis=0)\n",
        "\n",
        "# rename the columns to userID, itemID and rating\n",
        "combined_movies_data.columns = ['user_id', 'menu_id', 'rating','reviews']\n",
        "\n",
        "# use the transform method group by userID and count to keep the movies with more than 25 reviews\n",
        "\n",
        "combined_movies_data['reviews'] = combined_movies_data.groupby(['menu_id'])['rating'].transform('count')\n",
        "\n",
        "combined_movies_data= combined_movies_data[combined_movies_data.reviews>10][['user_id', 'menu_id', 'rating']]"
      ],
      "execution_count": 4,
      "outputs": []
    },
    {
      "cell_type": "code",
      "metadata": {
        "id": "o1F6ho6DFXiJ",
        "colab": {
          "base_uri": "https://localhost:8080/"
        },
        "outputId": "4e012938-be8d-4e17-8e8c-99b374d87016"
      },
      "source": [
        "\n",
        "pip install scipy==1.0.0\n",
        "pip install surprise"
      ],
      "execution_count": 5,
      "outputs": [
        {
          "output_type": "stream",
          "text": [
            "Collecting scipy==1.0.0\n",
            "  Downloading scipy-1.0.0.tar.gz (15.2 MB)\n",
            "\u001b[K     |████████████████████████████████| 15.2 MB 175 kB/s \n",
            "\u001b[?25hBuilding wheels for collected packages: scipy\n",
            "  Building wheel for scipy (setup.py) ... \u001b[?25lerror\n",
            "\u001b[31m  ERROR: Failed building wheel for scipy\u001b[0m\n",
            "\u001b[?25h  Running setup.py clean for scipy\n",
            "\u001b[31m  ERROR: Failed cleaning build dir for scipy\u001b[0m\n",
            "Failed to build scipy\n",
            "Installing collected packages: scipy\n",
            "  Attempting uninstall: scipy\n",
            "    Found existing installation: scipy 1.4.1\n",
            "    Uninstalling scipy-1.4.1:\n",
            "      Successfully uninstalled scipy-1.4.1\n",
            "    Running setup.py install for scipy ... \u001b[?25l\u001b[?25herror\n",
            "  Rolling back uninstall of scipy\n",
            "  Moving to /usr/local/lib/python3.7/dist-packages/scipy-1.4.1.dist-info/\n",
            "   from /usr/local/lib/python3.7/dist-packages/~cipy-1.4.1.dist-info\n",
            "  Moving to /usr/local/lib/python3.7/dist-packages/scipy/\n",
            "   from /usr/local/lib/python3.7/dist-packages/~cipy\n",
            "\u001b[31mERROR: Command errored out with exit status 1: /usr/bin/python3 -u -c 'import io, os, sys, setuptools, tokenize; sys.argv[0] = '\"'\"'/tmp/pip-install-h0ma1k2w/scipy_5fec738223094989ab03450da78db12d/setup.py'\"'\"'; __file__='\"'\"'/tmp/pip-install-h0ma1k2w/scipy_5fec738223094989ab03450da78db12d/setup.py'\"'\"';f = getattr(tokenize, '\"'\"'open'\"'\"', open)(__file__) if os.path.exists(__file__) else io.StringIO('\"'\"'from setuptools import setup; setup()'\"'\"');code = f.read().replace('\"'\"'\\r\\n'\"'\"', '\"'\"'\\n'\"'\"');f.close();exec(compile(code, __file__, '\"'\"'exec'\"'\"'))' install --record /tmp/pip-record-u4jv5dm2/install-record.txt --single-version-externally-managed --compile --install-headers /usr/local/include/python3.7/scipy Check the logs for full command output.\u001b[0m\n",
            "Collecting surprise\n",
            "  Downloading surprise-0.1-py2.py3-none-any.whl (1.8 kB)\n",
            "Collecting scikit-surprise\n",
            "  Downloading scikit-surprise-1.1.1.tar.gz (11.8 MB)\n",
            "\u001b[K     |████████████████████████████████| 11.8 MB 21.8 MB/s \n",
            "\u001b[?25hRequirement already satisfied: joblib>=0.11 in /usr/local/lib/python3.7/dist-packages (from scikit-surprise->surprise) (1.0.1)\n",
            "Requirement already satisfied: numpy>=1.11.2 in /usr/local/lib/python3.7/dist-packages (from scikit-surprise->surprise) (1.19.5)\n",
            "Requirement already satisfied: scipy>=1.0.0 in /usr/local/lib/python3.7/dist-packages (from scikit-surprise->surprise) (1.4.1)\n",
            "Requirement already satisfied: six>=1.10.0 in /usr/local/lib/python3.7/dist-packages (from scikit-surprise->surprise) (1.15.0)\n",
            "Building wheels for collected packages: scikit-surprise\n",
            "  Building wheel for scikit-surprise (setup.py) ... \u001b[?25l\u001b[?25hdone\n",
            "  Created wheel for scikit-surprise: filename=scikit_surprise-1.1.1-cp37-cp37m-linux_x86_64.whl size=1617793 sha256=d9d72b2e24b8714e91add4ef1561c0d7e4094b84d4dde6bd194fbab17c1b9384\n",
            "  Stored in directory: /root/.cache/pip/wheels/76/44/74/b498c42be47b2406bd27994e16c5188e337c657025ab400c1c\n",
            "Successfully built scikit-surprise\n",
            "Installing collected packages: scikit-surprise, surprise\n",
            "Successfully installed scikit-surprise-1.1.1 surprise-0.1\n"
          ],
          "name": "stdout"
        }
      ]
    },
    {
      "cell_type": "code",
      "metadata": {
        "id": "O8QMM6ynFcMY"
      },
      "source": [
        "from surprise import NMF, SVD, SVDpp, KNNBasic, KNNWithMeans, KNNWithZScore, CoClustering\n",
        "from surprise.model_selection import cross_validate\n",
        "from surprise import Reader, Dataset"
      ],
      "execution_count": 6,
      "outputs": []
    },
    {
      "cell_type": "code",
      "metadata": {
        "id": "h2CXZXWGFd1V"
      },
      "source": [
        "# A reader is still needed but only the rating_scale param is requiered.\n",
        "reader = Reader(rating_scale=(1, 5))\n",
        "data = Dataset.load_from_df(combined_movies_data, reader)"
      ],
      "execution_count": 7,
      "outputs": []
    },
    {
      "cell_type": "code",
      "metadata": {
        "id": "i7uYxptsLH5u"
      },
      "source": [
        "# get the list of the movie ids\n",
        "unique_ids = combined_movies_data['menu_id'].unique()\n",
        "\n",
        "# get the list of the ids that the userid 1001 has rated\n",
        "iids1001 = combined_movies_data.loc[combined_movies_data['user_id']=='U0004', 'menu_id']\n",
        "\n",
        "# remove the rated movies for the recommendations\n",
        "movies_to_predict = np.setdiff1d(unique_ids,iids1001)"
      ],
      "execution_count": 15,
      "outputs": []
    },
    {
      "cell_type": "code",
      "metadata": {
        "colab": {
          "base_uri": "https://localhost:8080/",
          "height": 351
        },
        "id": "jRgZ245rNr9x",
        "outputId": "aa029c2a-c110-4052-b272-ca64da417828"
      },
      "source": [
        "algo = SVD()\n",
        "algo.fit(data.build_full_trainset())\n",
        "\n",
        "my_recs = []\n",
        "for iid in movies_to_predict:\n",
        "    my_recs.append((iid, algo.predict(uid='U0004',iid=iid).est))\n",
        "    \n",
        "pd.DataFrame(my_recs, columns=['iid', 'predictions']).sort_values('predictions', ascending=False).head(10)"
      ],
      "execution_count": 16,
      "outputs": [
        {
          "output_type": "execute_result",
          "data": {
            "text/html": [
              "<div>\n",
              "<style scoped>\n",
              "    .dataframe tbody tr th:only-of-type {\n",
              "        vertical-align: middle;\n",
              "    }\n",
              "\n",
              "    .dataframe tbody tr th {\n",
              "        vertical-align: top;\n",
              "    }\n",
              "\n",
              "    .dataframe thead th {\n",
              "        text-align: right;\n",
              "    }\n",
              "</style>\n",
              "<table border=\"1\" class=\"dataframe\">\n",
              "  <thead>\n",
              "    <tr style=\"text-align: right;\">\n",
              "      <th></th>\n",
              "      <th>iid</th>\n",
              "      <th>predictions</th>\n",
              "    </tr>\n",
              "  </thead>\n",
              "  <tbody>\n",
              "    <tr>\n",
              "      <th>106</th>\n",
              "      <td>L00116</td>\n",
              "      <td>3.451933</td>\n",
              "    </tr>\n",
              "    <tr>\n",
              "      <th>225</th>\n",
              "      <td>L00235</td>\n",
              "      <td>3.263547</td>\n",
              "    </tr>\n",
              "    <tr>\n",
              "      <th>162</th>\n",
              "      <td>L00172</td>\n",
              "      <td>3.262803</td>\n",
              "    </tr>\n",
              "    <tr>\n",
              "      <th>61</th>\n",
              "      <td>L00071</td>\n",
              "      <td>3.246709</td>\n",
              "    </tr>\n",
              "    <tr>\n",
              "      <th>35</th>\n",
              "      <td>L00045</td>\n",
              "      <td>3.221698</td>\n",
              "    </tr>\n",
              "    <tr>\n",
              "      <th>238</th>\n",
              "      <td>L00248</td>\n",
              "      <td>3.191297</td>\n",
              "    </tr>\n",
              "    <tr>\n",
              "      <th>229</th>\n",
              "      <td>L00239</td>\n",
              "      <td>3.169550</td>\n",
              "    </tr>\n",
              "    <tr>\n",
              "      <th>206</th>\n",
              "      <td>L00216</td>\n",
              "      <td>3.166520</td>\n",
              "    </tr>\n",
              "    <tr>\n",
              "      <th>77</th>\n",
              "      <td>L00087</td>\n",
              "      <td>3.132680</td>\n",
              "    </tr>\n",
              "    <tr>\n",
              "      <th>237</th>\n",
              "      <td>L00247</td>\n",
              "      <td>3.113998</td>\n",
              "    </tr>\n",
              "  </tbody>\n",
              "</table>\n",
              "</div>"
            ],
            "text/plain": [
              "        iid  predictions\n",
              "106  L00116     3.451933\n",
              "225  L00235     3.263547\n",
              "162  L00172     3.262803\n",
              "61   L00071     3.246709\n",
              "35   L00045     3.221698\n",
              "238  L00248     3.191297\n",
              "229  L00239     3.169550\n",
              "206  L00216     3.166520\n",
              "77   L00087     3.132680\n",
              "237  L00247     3.113998"
            ]
          },
          "metadata": {
            "tags": []
          },
          "execution_count": 16
        }
      ]
    },
    {
      "cell_type": "code",
      "metadata": {
        "colab": {
          "base_uri": "https://localhost:8080/",
          "height": 297
        },
        "id": "viWqiC1LR4Nn",
        "outputId": "e7c809e5-5914-4945-e347-a692e30d6519"
      },
      "source": [
        "cv = []\n",
        "# Iterate over all recommender system algorithms\n",
        "for recsys in [NMF(), SVD(), SVDpp(), KNNWithZScore(), CoClustering()]:\n",
        "    # Perform cross validation\n",
        "    tmp = cross_validate(recsys, data, measures=['RMSE'], cv=3, verbose=False)\n",
        "    cv.append((str(recsys).split(' ')[0].split('.')[-1], tmp['test_rmse'].mean()))\n",
        "\n",
        "pd.DataFrame(cv, columns=['RecSys', 'RMSE'])"
      ],
      "execution_count": 17,
      "outputs": [
        {
          "output_type": "stream",
          "text": [
            "Computing the msd similarity matrix...\n",
            "Done computing similarity matrix.\n",
            "Computing the msd similarity matrix...\n",
            "Done computing similarity matrix.\n",
            "Computing the msd similarity matrix...\n",
            "Done computing similarity matrix.\n"
          ],
          "name": "stdout"
        },
        {
          "output_type": "execute_result",
          "data": {
            "text/html": [
              "<div>\n",
              "<style scoped>\n",
              "    .dataframe tbody tr th:only-of-type {\n",
              "        vertical-align: middle;\n",
              "    }\n",
              "\n",
              "    .dataframe tbody tr th {\n",
              "        vertical-align: top;\n",
              "    }\n",
              "\n",
              "    .dataframe thead th {\n",
              "        text-align: right;\n",
              "    }\n",
              "</style>\n",
              "<table border=\"1\" class=\"dataframe\">\n",
              "  <thead>\n",
              "    <tr style=\"text-align: right;\">\n",
              "      <th></th>\n",
              "      <th>RecSys</th>\n",
              "      <th>RMSE</th>\n",
              "    </tr>\n",
              "  </thead>\n",
              "  <tbody>\n",
              "    <tr>\n",
              "      <th>0</th>\n",
              "      <td>NMF</td>\n",
              "      <td>2.031379</td>\n",
              "    </tr>\n",
              "    <tr>\n",
              "      <th>1</th>\n",
              "      <td>SVD</td>\n",
              "      <td>1.786165</td>\n",
              "    </tr>\n",
              "    <tr>\n",
              "      <th>2</th>\n",
              "      <td>SVDpp</td>\n",
              "      <td>1.861702</td>\n",
              "    </tr>\n",
              "    <tr>\n",
              "      <th>3</th>\n",
              "      <td>KNNWithZScore</td>\n",
              "      <td>1.781762</td>\n",
              "    </tr>\n",
              "    <tr>\n",
              "      <th>4</th>\n",
              "      <td>CoClustering</td>\n",
              "      <td>1.855325</td>\n",
              "    </tr>\n",
              "  </tbody>\n",
              "</table>\n",
              "</div>"
            ],
            "text/plain": [
              "          RecSys      RMSE\n",
              "0            NMF  2.031379\n",
              "1            SVD  1.786165\n",
              "2          SVDpp  1.861702\n",
              "3  KNNWithZScore  1.781762\n",
              "4   CoClustering  1.855325"
            ]
          },
          "metadata": {
            "tags": []
          },
          "execution_count": 17
        }
      ]
    },
    {
      "cell_type": "code",
      "metadata": {
        "colab": {
          "base_uri": "https://localhost:8080/"
        },
        "id": "qpq-_c-0SWwx",
        "outputId": "bb8e1825-9152-490d-9a5e-9e8735d70f35"
      },
      "source": [
        "pip install uvicorn"
      ],
      "execution_count": 18,
      "outputs": [
        {
          "output_type": "stream",
          "text": [
            "Collecting uvicorn\n",
            "  Downloading uvicorn-0.14.0-py3-none-any.whl (50 kB)\n",
            "\u001b[K     |████████████████████████████████| 50 kB 6.1 MB/s \n",
            "\u001b[?25hCollecting asgiref>=3.3.4\n",
            "  Downloading asgiref-3.4.1-py3-none-any.whl (25 kB)\n",
            "Collecting h11>=0.8\n",
            "  Downloading h11-0.12.0-py3-none-any.whl (54 kB)\n",
            "\u001b[K     |████████████████████████████████| 54 kB 3.7 MB/s \n",
            "\u001b[?25hRequirement already satisfied: click>=7.* in /usr/local/lib/python3.7/dist-packages (from uvicorn) (7.1.2)\n",
            "Requirement already satisfied: typing-extensions in /usr/local/lib/python3.7/dist-packages (from uvicorn) (3.7.4.3)\n",
            "Installing collected packages: h11, asgiref, uvicorn\n",
            "Successfully installed asgiref-3.4.1 h11-0.12.0 uvicorn-0.14.0\n"
          ],
          "name": "stdout"
        }
      ]
    },
    {
      "cell_type": "code",
      "metadata": {
        "colab": {
          "base_uri": "https://localhost:8080/"
        },
        "id": "xckf6GFHSjpz",
        "outputId": "cae26c6d-d883-4b92-f6b7-b0459ba311ce"
      },
      "source": [
        "pip install fastapi"
      ],
      "execution_count": 19,
      "outputs": [
        {
          "output_type": "stream",
          "text": [
            "Collecting fastapi\n",
            "  Downloading fastapi-0.67.0-py3-none-any.whl (51 kB)\n",
            "\u001b[K     |████████████████████████████████| 51 kB 393 kB/s \n",
            "\u001b[?25hCollecting starlette==0.14.2\n",
            "  Downloading starlette-0.14.2-py3-none-any.whl (60 kB)\n",
            "\u001b[K     |████████████████████████████████| 60 kB 7.5 MB/s \n",
            "\u001b[?25hCollecting pydantic!=1.7,!=1.7.1,!=1.7.2,!=1.7.3,!=1.8,!=1.8.1,<2.0.0,>=1.6.2\n",
            "  Downloading pydantic-1.8.2-cp37-cp37m-manylinux2014_x86_64.whl (10.1 MB)\n",
            "\u001b[K     |████████████████████████████████| 10.1 MB 42.7 MB/s \n",
            "\u001b[?25hRequirement already satisfied: typing-extensions>=3.7.4.3 in /usr/local/lib/python3.7/dist-packages (from pydantic!=1.7,!=1.7.1,!=1.7.2,!=1.7.3,!=1.8,!=1.8.1,<2.0.0,>=1.6.2->fastapi) (3.7.4.3)\n",
            "Installing collected packages: starlette, pydantic, fastapi\n",
            "Successfully installed fastapi-0.67.0 pydantic-1.8.2 starlette-0.14.2\n"
          ],
          "name": "stdout"
        }
      ]
    }
  ]
}